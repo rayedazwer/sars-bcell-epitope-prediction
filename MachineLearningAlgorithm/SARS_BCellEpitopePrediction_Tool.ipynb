{
 "cells": [
  {
   "cell_type": "code",
   "execution_count": 1,
   "id": "fd380e20-d67e-4428-a4ec-4062d6d8a504",
   "metadata": {},
   "outputs": [],
   "source": [
    "# Testing Machine learning alogrithm\n",
    "# User inputs protein sequence to assess if it is an epitope (1), or non-epitope (0)"
   ]
  },
  {
   "cell_type": "code",
   "execution_count": 4,
   "id": "38496061-b49a-40ee-8454-2f7023246829",
   "metadata": {},
   "outputs": [],
   "source": [
    "import pandas as pd\n",
    "import numpy as np\n",
    "import joblib# Load heuristic CSV\n",
    "from Bio.SeqUtils.ProtParam import ProteinAnalysis"
   ]
  },
  {
   "cell_type": "code",
   "execution_count": 5,
   "id": "054c9c01-b2a2-4b07-8620-7eb3e65c201d",
   "metadata": {},
   "outputs": [],
   "source": [
    "heuristics_df = pd.read_csv('peptide_features.csv', index_col=0)  # index = amino_acid"
   ]
  },
  {
   "cell_type": "code",
   "execution_count": 6,
   "id": "5d253823-1c2e-4e97-ac0f-ff547adedb63",
   "metadata": {},
   "outputs": [
    {
     "data": {
      "text/html": [
       "<div>\n",
       "<style scoped>\n",
       "    .dataframe tbody tr th:only-of-type {\n",
       "        vertical-align: middle;\n",
       "    }\n",
       "\n",
       "    .dataframe tbody tr th {\n",
       "        vertical-align: top;\n",
       "    }\n",
       "\n",
       "    .dataframe thead th {\n",
       "        text-align: right;\n",
       "    }\n",
       "</style>\n",
       "<table border=\"1\" class=\"dataframe\">\n",
       "  <thead>\n",
       "    <tr style=\"text-align: right;\">\n",
       "      <th></th>\n",
       "      <th>chou_fasman</th>\n",
       "      <th>emini</th>\n",
       "      <th>kolaskar_tongaonkar</th>\n",
       "      <th>parker</th>\n",
       "      <th>isoelectric_point</th>\n",
       "    </tr>\n",
       "    <tr>\n",
       "      <th>amino_acid</th>\n",
       "      <th></th>\n",
       "      <th></th>\n",
       "      <th></th>\n",
       "      <th></th>\n",
       "      <th></th>\n",
       "    </tr>\n",
       "  </thead>\n",
       "  <tbody>\n",
       "    <tr>\n",
       "      <th>A</th>\n",
       "      <td>0.66</td>\n",
       "      <td>0.49</td>\n",
       "      <td>1.064</td>\n",
       "      <td>2.1</td>\n",
       "      <td>6.11</td>\n",
       "    </tr>\n",
       "    <tr>\n",
       "      <th>C</th>\n",
       "      <td>1.19</td>\n",
       "      <td>0.26</td>\n",
       "      <td>1.412</td>\n",
       "      <td>1.4</td>\n",
       "      <td>5.15</td>\n",
       "    </tr>\n",
       "    <tr>\n",
       "      <th>D</th>\n",
       "      <td>1.46</td>\n",
       "      <td>0.81</td>\n",
       "      <td>0.866</td>\n",
       "      <td>10.0</td>\n",
       "      <td>2.98</td>\n",
       "    </tr>\n",
       "    <tr>\n",
       "      <th>E</th>\n",
       "      <td>0.74</td>\n",
       "      <td>0.84</td>\n",
       "      <td>0.851</td>\n",
       "      <td>7.8</td>\n",
       "      <td>3.08</td>\n",
       "    </tr>\n",
       "    <tr>\n",
       "      <th>F</th>\n",
       "      <td>0.60</td>\n",
       "      <td>0.42</td>\n",
       "      <td>1.091</td>\n",
       "      <td>-9.2</td>\n",
       "      <td>5.76</td>\n",
       "    </tr>\n",
       "  </tbody>\n",
       "</table>\n",
       "</div>"
      ],
      "text/plain": [
       "            chou_fasman  emini  kolaskar_tongaonkar  parker  isoelectric_point\n",
       "amino_acid                                                                    \n",
       "A                  0.66   0.49                1.064     2.1               6.11\n",
       "C                  1.19   0.26                1.412     1.4               5.15\n",
       "D                  1.46   0.81                0.866    10.0               2.98\n",
       "E                  0.74   0.84                0.851     7.8               3.08\n",
       "F                  0.60   0.42                1.091    -9.2               5.76"
      ]
     },
     "execution_count": 6,
     "metadata": {},
     "output_type": "execute_result"
    }
   ],
   "source": [
    "heuristics_df.head()"
   ]
  },
  {
   "cell_type": "code",
   "execution_count": 8,
   "id": "6b0e11c3-896d-437a-94b1-24fa57e362d0",
   "metadata": {},
   "outputs": [],
   "source": [
    "# Load ML models\n",
    "# model_logreg = joblib.load('model_logreg.pkl')\n",
    "model_dt = joblib.load('model_dt.pkl')\n",
    "model_rf = joblib.load('model_rf.pkl')"
   ]
  },
  {
   "cell_type": "code",
   "execution_count": 15,
   "id": "8f5be03c-287b-4610-9f9c-f004c7934bca",
   "metadata": {},
   "outputs": [],
   "source": [
    "# Validate sequence\n",
    "def validate_sequence(seq):\n",
    "    seq = seq.upper()\n",
    "    valid_amino_acid = set('ACDEFGHIKLMNPQRSTVWY') # this ensures that user inputted sequence has any of the following characters\n",
    "    if not set(seq).issubset(valid_amino_acid):\n",
    "        raise ValueError(\"Sequence contains invalid amino acids\")\n",
    "    return seq"
   ]
  },
  {
   "cell_type": "code",
   "execution_count": 16,
   "id": "1c0ececc-d631-4ccc-8b90-2f5ac7f7205b",
   "metadata": {},
   "outputs": [],
   "source": [
    "# Compute heuristic averages\n",
    "def compute_heuristics(seq):\n",
    "    values = {}\n",
    "    for feature in heuristics_df.columns:\n",
    "        vals = [heuristics_df.at[amino_acid, feature] for amino_acid in seq]\n",
    "        values[feature] = np.mean(vals)\n",
    "    return values"
   ]
  },
  {
   "cell_type": "code",
   "execution_count": 17,
   "id": "9f457745-55a8-4553-96ba-705b4080aa99",
   "metadata": {},
   "outputs": [],
   "source": [
    "# Compute biopython features\n",
    "def compute_biopython_features(seq):\n",
    "    prot = ProteinAnalysis(seq)\n",
    "    features = {\n",
    "        'isoelectric_point': prot.isoelectric_point(),\n",
    "        'aromaticity': prot.aromaticity(),\n",
    "        'hydrophobicity': prot.gravy(),  # Kyte-Doolittle average\n",
    "        'stability': prot.instability_index()\n",
    "    }\n",
    "    return features"
   ]
  },
  {
   "cell_type": "code",
   "execution_count": 18,
   "id": "38810334-63ac-4a3b-b45e-e6e4ec621894",
   "metadata": {},
   "outputs": [],
   "source": [
    "# Main prediction function\n",
    "def predict_epitope(seq):\n",
    "    seq = validate_sequence(seq)\n",
    "    data = {}\n",
    "    data.update(compute_heuristics(seq))\n",
    "    data.update(compute_biopython_features(seq))\n",
    "    X = pd.DataFrame([data])  # single-row dataframe\n",
    "    # Get predictions\n",
    "    # pred_logreg = model_logreg.predict(X)[0]\n",
    "    pred_dt = model_dt.predict(X)[0]\n",
    "    pred_rf = model_rf.predict(X)[0]\n",
    "    return {'DecisionTree': pred_dt, 'RandomForest': pred_rf}"
   ]
  },
  {
   "cell_type": "code",
   "execution_count": null,
   "id": "181e8f3e-d6c0-4eae-902f-0279b7ed45c9",
   "metadata": {},
   "outputs": [],
   "source": [
    "sequence = input(\"Enter protein sequence: \")\n",
    "result = predict_epitope(sequence)\n",
    "print(\"Predictions:\", result)"
   ]
  }
 ],
 "metadata": {
  "kernelspec": {
   "display_name": "Python 3 (ipykernel)",
   "language": "python",
   "name": "python3"
  },
  "language_info": {
   "codemirror_mode": {
    "name": "ipython",
    "version": 3
   },
   "file_extension": ".py",
   "mimetype": "text/x-python",
   "name": "python",
   "nbconvert_exporter": "python",
   "pygments_lexer": "ipython3",
   "version": "3.13.5"
  }
 },
 "nbformat": 4,
 "nbformat_minor": 5
}
